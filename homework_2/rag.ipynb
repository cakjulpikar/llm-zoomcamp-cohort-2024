{
 "cells": [
  {
   "cell_type": "code",
   "execution_count": 1,
   "id": "b385fe49-d265-47c4-a02f-a42a94f21e3d",
   "metadata": {},
   "outputs": [
    {
     "name": "stdout",
     "output_type": "stream",
     "text": [
      "--2024-07-01 13:27:52--  https://raw.githubusercontent.com/alexeygrigorev/minsearch/main/minsearch.py\n",
      "Resolving raw.githubusercontent.com (raw.githubusercontent.com)... 185.199.110.133, 185.199.111.133, 185.199.108.133, ...\n",
      "Connecting to raw.githubusercontent.com (raw.githubusercontent.com)|185.199.110.133|:443... connected.\n",
      "HTTP request sent, awaiting response... 200 OK\n",
      "Length: 3832 (3.7K) [text/plain]\n",
      "Saving to: ‘minsearch.py’\n",
      "\n",
      "minsearch.py        100%[===================>]   3.74K  --.-KB/s    in 0s      \n",
      "\n",
      "2024-07-01 13:27:53 (44.3 MB/s) - ‘minsearch.py’ saved [3832/3832]\n",
      "\n"
     ]
    }
   ],
   "source": [
    "!rm -f minsearch.py\n",
    "!wget https://raw.githubusercontent.com/alexeygrigorev/minsearch/main/minsearch.py"
   ]
  },
  {
   "cell_type": "code",
   "execution_count": 3,
   "id": "5b06a0cf-220d-475e-91a4-346a75280d17",
   "metadata": {},
   "outputs": [],
   "source": [
    "from openai import OpenAI\n",
    "import requests \n",
    "import minsearch"
   ]
  },
  {
   "cell_type": "code",
   "execution_count": 3,
   "id": "a9548c7c",
   "metadata": {},
   "outputs": [],
   "source": [
    "def setup_index():\n",
    "    docs_url = 'https://github.com/DataTalksClub/llm-zoomcamp/blob/main/01-intro/documents.json?raw=1'\n",
    "    docs_response = requests.get(docs_url)\n",
    "    documents_raw = docs_response.json()\n",
    "\n",
    "    documents = []\n",
    "\n",
    "    for course in documents_raw:\n",
    "        course_name = course['course']\n",
    "\n",
    "        for doc in course['documents']:\n",
    "            doc['course'] = course_name\n",
    "            documents.append(doc)\n",
    "\n",
    "    index = minsearch.Index(\n",
    "        text_fields=[\"question\", \"text\", \"section\"],\n",
    "        keyword_fields=[\"course\"]\n",
    "    )\n",
    "\n",
    "    index.fit(documents)\n",
    "\n",
    "    return index"
   ]
  },
  {
   "cell_type": "code",
   "execution_count": 4,
   "id": "8be45edf",
   "metadata": {},
   "outputs": [],
   "source": [
    "def search(query, index):\n",
    "    boost = {'question': 3.0, 'section': 0.5}\n",
    "\n",
    "    results = index.search(\n",
    "        query=query,\n",
    "        filter_dict={'course': 'data-engineering-zoomcamp'},\n",
    "        boost_dict=boost,\n",
    "        num_results=5\n",
    "    )\n",
    "\n",
    "    print(results)\n",
    "\n",
    "    return results"
   ]
  },
  {
   "cell_type": "code",
   "execution_count": 5,
   "id": "266b2445",
   "metadata": {},
   "outputs": [],
   "source": [
    "def build_prompt(query, search_results):\n",
    "    prompt_template = \"\"\"\n",
    "        You're a course teaching assistant. Answer the QUESTION based on the CONTEXT from the FAQ database.\n",
    "        Use only the facts from the CONTEXT when answering the QUESTION.\n",
    "        \n",
    "        QUESTION: {question}\n",
    "\n",
    "        CONTEXT: {context}\n",
    "    \"\"\".strip()\n",
    "\n",
    "    context = \"\"\n",
    "    \n",
    "    for doc in search_results:\n",
    "        context = context + f\"section: {doc['section']}\\nquestion: {doc['question']}\\nanswer: {doc['text']}\\n\\n\"\n",
    "    \n",
    "    prompt = prompt_template.format(question=query, context=context).strip()\n",
    "\n",
    "    print(prompt)\n",
    "\n",
    "    return prompt"
   ]
  },
  {
   "cell_type": "code",
   "execution_count": 6,
   "id": "3a7a0abe",
   "metadata": {},
   "outputs": [],
   "source": [
    "def send_to_llm(prompt):\n",
    "    llm_client = OpenAI(\n",
    "        base_url = \"http://localhost:11434/v1\",\n",
    "        api_key = \"ollama\"\n",
    "    )\n",
    "\n",
    "    llm_resp = llm_client.chat.completions.create(\n",
    "        model = \"phi3\",\n",
    "        messages = [{ \"role\": \"user\", \"content\": prompt }],\n",
    "        temperature = 0.0\n",
    "    )\n",
    "    \n",
    "    return llm_resp"
   ]
  },
  {
   "cell_type": "code",
   "execution_count": 7,
   "id": "12e71b3e",
   "metadata": {},
   "outputs": [],
   "source": [
    "def rag(query):\n",
    "    index = setup_index()\n",
    "    search_results = search(query, index)\n",
    "    prompt = build_prompt(query, search_results)\n",
    "    answer = send_to_llm(prompt)\n",
    "    return answer"
   ]
  },
  {
   "cell_type": "code",
   "execution_count": 8,
   "id": "65381f18",
   "metadata": {},
   "outputs": [
    {
     "name": "stdout",
     "output_type": "stream",
     "text": [
      "[{'text': 'GitHub - DataTalksClub data-engineering-zoomcamp#prerequisites', 'section': 'General course-related questions', 'question': 'Course - What are the prerequisites for this course?', 'course': 'data-engineering-zoomcamp'}, {'text': 'After you submit your homework it will be graded based on the amount of questions in a particular homework. You can see how many points you have right on the page of the homework up top. Additionally in the leaderboard you will find the sum of all points you’ve earned - points for Homeworks, FAQs and Learning in Public. If homework is clear, others work as follows: if you submit something to FAQ, you get one point, for each learning in a public link you get one point.\\n(https://datatalks-club.slack.com/archives/C01FABYF2RG/p1706846846359379?thread_ts=1706825019.546229&cid=C01FABYF2RG)', 'section': 'General course-related questions', 'question': 'Homework and Leaderboard - what is the system for points in the course management platform?', 'course': 'data-engineering-zoomcamp'}, {'text': 'The zoom link is only published to instructors/presenters/TAs.\\nStudents participate via Youtube Live and submit questions to Slido (link would be pinned in the chat when Alexey goes Live). The video URL should be posted in the announcements channel on Telegram & Slack before it begins. Also, you will see it live on the DataTalksClub YouTube Channel.\\nDon’t post your questions in chat as it would be off-screen before the instructors/moderators have a chance to answer it if the room is very active.', 'section': 'General course-related questions', 'question': 'Office Hours - What is the video/zoom link to the stream for the “Office Hour” or workshop sessions?', 'course': 'data-engineering-zoomcamp'}, {'text': \"All mage files are in your /home/src/folder where you saved your credentials.json so you should be able to access them locally. You will see a folder for ‘Pipelines’,  'data loaders', 'data transformers' & 'data exporters' - inside these will be the .py or .sql files for the blocks you created in your pipeline.\\nRight click & ‘download’ the pipeline itself to your local machine (which gives you metadata, pycache and other files)\\nAs above, download each .py/.sql file that corresponds to each block you created for the pipeline. You'll find these under 'data loaders', 'data transformers' 'data exporters'\\nMove the downloaded files to your GitHub repo folder & commit your changes.\", 'section': 'Module 2: Workflow Orchestration', 'question': 'Git - What Files Should I Submit for Homework 2 & How do I get them out of MAGE:', 'course': 'data-engineering-zoomcamp'}, {'text': 'Answer: In short, it’s your repository on github, gitlab, bitbucket, etc\\nIn long, your repository or any other location you have your code where a reasonable person would look at it and think yes, you went through the week and exercises.', 'section': 'General course-related questions', 'question': 'Homework - What is the homework URL in the homework link?', 'course': 'data-engineering-zoomcamp'}]\n",
      "You're a course teaching assistant. Answer the QUESTION based on the CONTEXT from the FAQ database.\n",
      "        Use only the facts from the CONTEXT when answering the QUESTION.\n",
      "        \n",
      "        QUESTION: What's the formula for energy?\n",
      "\n",
      "        CONTEXT: section: General course-related questions\n",
      "question: Course - What are the prerequisites for this course?\n",
      "answer: GitHub - DataTalksClub data-engineering-zoomcamp#prerequisites\n",
      "\n",
      "section: General course-related questions\n",
      "question: Homework and Leaderboard - what is the system for points in the course management platform?\n",
      "answer: After you submit your homework it will be graded based on the amount of questions in a particular homework. You can see how many points you have right on the page of the homework up top. Additionally in the leaderboard you will find the sum of all points you’ve earned - points for Homeworks, FAQs and Learning in Public. If homework is clear, others work as follows: if you submit something to FAQ, you get one point, for each learning in a public link you get one point.\n",
      "(https://datatalks-club.slack.com/archives/C01FABYF2RG/p1706846846359379?thread_ts=1706825019.546229&cid=C01FABYF2RG)\n",
      "\n",
      "section: General course-related questions\n",
      "question: Office Hours - What is the video/zoom link to the stream for the “Office Hour” or workshop sessions?\n",
      "answer: The zoom link is only published to instructors/presenters/TAs.\n",
      "Students participate via Youtube Live and submit questions to Slido (link would be pinned in the chat when Alexey goes Live). The video URL should be posted in the announcements channel on Telegram & Slack before it begins. Also, you will see it live on the DataTalksClub YouTube Channel.\n",
      "Don’t post your questions in chat as it would be off-screen before the instructors/moderators have a chance to answer it if the room is very active.\n",
      "\n",
      "section: Module 2: Workflow Orchestration\n",
      "question: Git - What Files Should I Submit for Homework 2 & How do I get them out of MAGE:\n",
      "answer: All mage files are in your /home/src/folder where you saved your credentials.json so you should be able to access them locally. You will see a folder for ‘Pipelines’,  'data loaders', 'data transformers' & 'data exporters' - inside these will be the .py or .sql files for the blocks you created in your pipeline.\n",
      "Right click & ‘download’ the pipeline itself to your local machine (which gives you metadata, pycache and other files)\n",
      "As above, download each .py/.sql file that corresponds to each block you created for the pipeline. You'll find these under 'data loaders', 'data transformers' 'data exporters'\n",
      "Move the downloaded files to your GitHub repo folder & commit your changes.\n",
      "\n",
      "section: General course-related questions\n",
      "question: Homework - What is the homework URL in the homework link?\n",
      "answer: Answer: In short, it’s your repository on github, gitlab, bitbucket, etc\n",
      "In long, your repository or any other location you have your code where a reasonable person would look at it and think yes, you went through the week and exercises.\n"
     ]
    },
    {
     "data": {
      "text/plain": [
       "ChatCompletion(id='chatcmpl-711', choices=[Choice(finish_reason='stop', index=0, logprobs=None, message=ChatCompletionMessage(content='The formula for energy is not mentioned in the context, so I cannot answer this question from the provided context.', role='assistant', function_call=None, tool_calls=None))], created=1719815293, model='gemma:2b', object='chat.completion', service_tier=None, system_fingerprint='fp_ollama', usage=CompletionUsage(completion_tokens=23, prompt_tokens=0, total_tokens=23))"
      ]
     },
     "execution_count": 8,
     "metadata": {},
     "output_type": "execute_result"
    }
   ],
   "source": [
    "answer = rag(\"What's the formula for energy?\")\n",
    "\n",
    "answer"
   ]
  },
  {
   "cell_type": "code",
   "execution_count": 1,
   "id": "ef3bfe0e",
   "metadata": {},
   "outputs": [],
   "source": [
    "def send_to_llm_no_context(prompt):\n",
    "    llm_client = OpenAI(\n",
    "        base_url = \"http://localhost:11434/v1\",\n",
    "        api_key = \"ollama\"\n",
    "    )\n",
    "\n",
    "    llm_resp = llm_client.chat.completions.create(\n",
    "        model = \"phi3\",\n",
    "        messages = [{ \"role\": \"user\", \"content\": prompt }],\n",
    "        temperature = 0.0\n",
    "    )\n",
    "    \n",
    "    return llm_resp"
   ]
  },
  {
   "cell_type": "code",
   "execution_count": 4,
   "id": "a694433b",
   "metadata": {},
   "outputs": [
    {
     "data": {
      "text/plain": [
       "ChatCompletion(id='chatcmpl-160', choices=[Choice(finish_reason='stop', index=0, logprobs=None, message=ChatCompletionMessage(content=\" The most common formula to calculate the energy of an object is derived from two fundamental principles in physics:\\n\\n1. Kinetic Energy (KE): This represents the energy possessed by a moving object due to its motion. It can be calculated using the following formula:\\n\\n   KE = 0.5 * m * v^2\\n\\n   where 'm' is the mass of the object in kilograms, and 'v' is the velocity or speed of the object in meters per second (m/s).\\n\\n2. Potential Energy (PE): This represents the energy possessed by an object due to its position relative to other objects within a force field, such as gravity. The most common formula for gravitational potential energy is:\\n\\n   PE = m * g * h\\n\\n   where 'm' is the mass of the object in kilograms, 'g' is the acceleration due to gravity (approximately 9.81 m/s^2 on Earth), and 'h' is the height or vertical distance above a reference point in meters.\\n\\nThere are other forms of energy as well, such as elastic potential energy, chemical energy, electrical energy, etc., each with their own specific formulas to calculate them based on relevant factors.\", role='assistant', function_call=None, tool_calls=None))], created=1719816356, model='phi3', object='chat.completion', service_tier=None, system_fingerprint='fp_ollama', usage=CompletionUsage(completion_tokens=268, prompt_tokens=12, total_tokens=280))"
      ]
     },
     "execution_count": 4,
     "metadata": {},
     "output_type": "execute_result"
    }
   ],
   "source": [
    "answer = send_to_llm_no_context(\"What's the formula for energy?\")\n",
    "\n",
    "answer"
   ]
  }
 ],
 "metadata": {
  "kernelspec": {
   "display_name": "Python 3 (ipykernel)",
   "language": "python",
   "name": "python3"
  },
  "language_info": {
   "codemirror_mode": {
    "name": "ipython",
    "version": 3
   },
   "file_extension": ".py",
   "mimetype": "text/x-python",
   "name": "python",
   "nbconvert_exporter": "python",
   "pygments_lexer": "ipython3",
   "version": "3.12.4"
  }
 },
 "nbformat": 4,
 "nbformat_minor": 5
}
